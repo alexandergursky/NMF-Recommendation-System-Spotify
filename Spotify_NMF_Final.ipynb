{
 "cells": [
  {
   "cell_type": "code",
   "execution_count": 2,
   "metadata": {},
   "outputs": [],
   "source": [
    "# Notes for me: Create same model but twist it for songs as well so I can pair both models together in utility\n",
    "\n",
    "import numpy as np\n",
    "import pandas as pd\n",
    "from sklearn.decomposition import NMF\n",
    "from sklearn.preprocessing import MaxAbsScaler, Normalizer\n",
    "from sklearn.pipeline import make_pipeline\n",
    "\n",
    "\n",
    "# Loading clean sparse df I made \n",
    "master_df = pd.read_csv('spotify-sparse5.csv')"
   ]
  },
  {
   "cell_type": "code",
   "execution_count": 9,
   "metadata": {},
   "outputs": [],
   "source": [
    "# Creating a df that is easier to view in Data Viewer \n",
    "# So i can see what I am doing without having to take up a ton of mem or do a alot of print() coding\n",
    "view_mdf = master_df.iloc[:10, :100]\n",
    "\n",
    "# Extracting a list of artist names, I will need this later on after sparse has gone through the pipeline.\n",
    "artist_list = master_df['artistname'].values.tolist()\n",
    "\n",
    "# Reindexed\n",
    "data_reindex_df = master_df.set_index('artistname')\n",
    "\n",
    "# New view\n",
    "view_ridf = data_reindex_df.iloc[:10, :100]"
   ]
  },
  {
   "cell_type": "code",
   "execution_count": null,
   "metadata": {},
   "outputs": [],
   "source": [
    "# Creating the model and training it\n",
    "\n",
    "# WARNING WARNING WARNING WARNING WARNING\n",
    "# WARNING WARNING WARNING WARNING WARNING\n",
    "# WARNING WARNING WARNING WARNING WARNING\n",
    "# This cell is required if you don't have a trained model, if you do, please skip this cell.\n",
    "# If you are electing to ignore this warning, note that this model\n",
    "# took 40 mins to train, using 8 CPU cores clocking at 4.2Ghz and 16Gb RAM.\n",
    "\n",
    "scaler = MaxAbsScaler()\n",
    "nmf = NMF(n_components=data_reindex_df.shape[1])\n",
    "norm = Normalizer()\n",
    "pipeline = make_pipeline(scaler, nmf, norm)\n",
    "\n",
    "scal_nmf_norm = pipeline.fit_transform(data_reindex_df)"
   ]
  },
  {
   "cell_type": "code",
   "execution_count": 7,
   "metadata": {},
   "outputs": [],
   "source": [
    "# Conversion to a df and appending the artist list as the index so I can queue the results\n",
    "scal_nmf_norm_df = pd.DataFrame(scal_nmf_norm, index=artist_list)"
   ]
  },
  {
   "cell_type": "code",
   "execution_count": null,
   "metadata": {},
   "outputs": [],
   "source": [
    "# This is for exporting the model\n",
    "scal_nmf_norm_df.to_csv('sparse5-trained.csv')"
   ]
  },
  {
   "cell_type": "code",
   "execution_count": 3,
   "metadata": {},
   "outputs": [],
   "source": [
    "# This cell is for importing the already trained model\n",
    "scal_nmf_norm_df = pd.read_csv('sparse5-trained.csv', index_col='Unnamed: 0')\n"
   ]
  },
  {
   "cell_type": "code",
   "execution_count": 6,
   "metadata": {},
   "outputs": [
    {
     "name": "stdout",
     "output_type": "stream",
     "text": [
      "Future           1.000000\n",
      "Migos            0.910087\n",
      "Young Thug       0.823167\n",
      "Rokia Traoré     0.774155\n",
      "Vince Staples    0.722169\n",
      "George Maple     0.710384\n",
      "Bobbie Gentry    0.710303\n",
      "Rocko            0.695946\n",
      "Chief Keef       0.680778\n",
      "Death Grips      0.671577\n",
      "Rich Gang        0.667272\n",
      "dtype: float64\n"
     ]
    }
   ],
   "source": [
    "# Making it more fool-proof by auto formatting the input, selecting artist.\n",
    "selecting_artist = str('future').title()\n",
    "\n",
    "# Selecting the observation\n",
    "artist = scal_nmf_norm_df.loc[selecting_artist]\n",
    "\n",
    "# Scaler-product the observation to the df to get the simularity scores\n",
    "recomendation = scal_nmf_norm_df.dot(artist)\n",
    "\n",
    "# Display the results\n",
    "print(recomendation.nlargest(11))"
   ]
  }
 ],
 "metadata": {
  "kernelspec": {
   "display_name": "Python 3.9.7 ('base')",
   "language": "python",
   "name": "python3"
  },
  "language_info": {
   "codemirror_mode": {
    "name": "ipython",
    "version": 3
   },
   "file_extension": ".py",
   "mimetype": "text/x-python",
   "name": "python",
   "nbconvert_exporter": "python",
   "pygments_lexer": "ipython3",
   "version": "3.11.0"
  },
  "orig_nbformat": 4,
  "vscode": {
   "interpreter": {
    "hash": "ad2bdc8ecc057115af97d19610ffacc2b4e99fae6737bb82f5d7fb13d2f2c186"
   }
  }
 },
 "nbformat": 4,
 "nbformat_minor": 2
}
