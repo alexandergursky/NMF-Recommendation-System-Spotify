{
 "cells": [
  {
   "cell_type": "code",
   "execution_count": 1,
   "metadata": {},
   "outputs": [],
   "source": [
    "import pandas as pd\n",
    "\n",
    "data = pd.read_csv('spotify-compressed.csv')"
   ]
  },
  {
   "cell_type": "code",
   "execution_count": 2,
   "metadata": {},
   "outputs": [
    {
     "data": {
      "text/plain": [
       "Index(['Unnamed: 0', 'artistname', 'user', 'artist-value'], dtype='object')"
      ]
     },
     "execution_count": 2,
     "metadata": {},
     "output_type": "execute_result"
    }
   ],
   "source": [
    "data.columns"
   ]
  },
  {
   "cell_type": "code",
   "execution_count": 3,
   "metadata": {},
   "outputs": [],
   "source": [
    "data = data.drop('Unnamed: 0', axis=1)"
   ]
  },
  {
   "cell_type": "code",
   "execution_count": 4,
   "metadata": {},
   "outputs": [],
   "source": [
    "# Oddly this didnt work so i wanted to select a row i knew had a blank value\n",
    "\n",
    "import numpy as np\n",
    "data_clean_df = data\n",
    "\n",
    "data_clean_df['artistname'] = data['artistname'].replace(' ', np.nan)\n",
    "\n",
    "data_clean_df = data_clean_df.dropna()"
   ]
  },
  {
   "cell_type": "code",
   "execution_count": 5,
   "metadata": {},
   "outputs": [
    {
     "name": "stdout",
     "output_type": "stream",
     "text": [
      "artistname       \n",
      "user            9\n",
      "artist-value    1\n",
      "Name: 3585, dtype: object\n"
     ]
    }
   ],
   "source": [
    "# Observing the weird value\n",
    "print(data.iloc[3585])"
   ]
  },
  {
   "cell_type": "code",
   "execution_count": 6,
   "metadata": {},
   "outputs": [],
   "source": [
    "# Regex time, dropping any observations with only blank spaces\n",
    "data_clean_df['artistname'] = data_clean_df['artistname'].replace(r'^\\s*$', np.nan, regex=True)\n",
    "\n",
    "data_clean_df = data_clean_df.dropna()"
   ]
  },
  {
   "cell_type": "code",
   "execution_count": 7,
   "metadata": {},
   "outputs": [
    {
     "name": "stdout",
     "output_type": "stream",
     "text": [
      "artistname      The Limeliters\n",
      "user                         9\n",
      "artist-value                 3\n",
      "Name: 3586, dtype: object\n"
     ]
    }
   ],
   "source": [
    "# Checking that it is gone\n",
    "print(data_clean_df.iloc[3585])"
   ]
  },
  {
   "cell_type": "code",
   "execution_count": 8,
   "metadata": {},
   "outputs": [
    {
     "name": "stdout",
     "output_type": "stream",
     "text": [
      "Values that would be dropped: 2,703,706\n",
      "Users that would be dropped: 913\n"
     ]
    },
    {
     "data": {
      "text/plain": [
       "count    15914.000000\n",
       "mean       206.458967\n",
       "std        344.262166\n",
       "min          1.000000\n",
       "25%         33.000000\n",
       "50%        110.000000\n",
       "75%        265.000000\n",
       "max      21966.000000\n",
       "Name: user, dtype: float64"
      ]
     },
     "execution_count": 8,
     "metadata": {},
     "output_type": "execute_result"
    },
    {
     "data": {
      "image/png": "[encoded data removed]",
      "text/plain": [
       "<Figure size 432x288 with 1 Axes>"
      ]
     },
     "metadata": {
      "needs_background": "light"
     },
     "output_type": "display_data"
    }
   ],
   "source": [
    "# I am experancing a memory issue still so i need to see what values I can drop\n",
    "# Looking at what-if, if I were to drop users who listen to less than 1000 songs.\n",
    "count_user = data_clean_df['user'].value_counts()\n",
    "\n",
    "sum_counts_users = count_user[count_user < 1000].sum()\n",
    "sum_counts_users1 = count_user[count_user < 1000].nunique()\n",
    "print('Values that would be dropped: {:,}'.format(sum_counts_users))\n",
    "print('Users that would be dropped: {:,}'.format(sum_counts_users1))\n",
    "\n",
    "# Graph is what the data looks like before I drop any observations\n",
    "# Stats displayed are what it would look like if I did drop observations\n",
    "# Not very good practice to have things next to each other that use diffrent metrics, so I wanted to state this.\n",
    "count_user.plot(kind='kde')\n",
    "count_user.describe()"
   ]
  },
  {
   "cell_type": "code",
   "execution_count": 9,
   "metadata": {},
   "outputs": [],
   "source": [
    "# For dropping users\n",
    "\n",
    "# Creating the condition\n",
    "mask = count_user[count_user >= 600].index\n",
    "\n",
    "# Applying the condition\n",
    "data_clean_df = data_clean_df[data_clean_df['user'].isin(mask)]\n"
   ]
  },
  {
   "cell_type": "code",
   "execution_count": 10,
   "metadata": {},
   "outputs": [
    {
     "name": "stdout",
     "output_type": "stream",
     "text": [
      "Values that would be dropped: 114,832\n",
      "Artist that would be dropped: 24\n"
     ]
    },
    {
     "data": {
      "text/plain": [
       "count    194380.000000\n",
       "mean          5.927153\n",
       "std          24.977955\n",
       "min           1.000000\n",
       "25%           1.000000\n",
       "50%           1.000000\n",
       "75%           3.000000\n",
       "max         814.000000\n",
       "Name: artistname, dtype: float64"
      ]
     },
     "execution_count": 10,
     "metadata": {},
     "output_type": "execute_result"
    },
    {
     "data": {
      "image/png": "[encoded data removed]",
      "text/plain": [
       "<Figure size 432x288 with 1 Axes>"
      ]
     },
     "metadata": {
      "needs_background": "light"
     },
     "output_type": "display_data"
    }
   ],
   "source": [
    "# I am experancing a memory issue so I need to see what values I can drop.\n",
    "# We just dropped some users, now we are looking at artist.\n",
    "# Since a lot are only observed 1 time I want to see the counts.\n",
    "count = data_clean_df['artistname'].value_counts()\n",
    "\n",
    "# Checks count of values under defined value\n",
    "sum_counts = count[count <= 1].sum()  # Looking at artist count that is at or below once\n",
    "sum_counts_artist = count[count < 25].nunique()  # Looking at artist observered less than 25 times\n",
    "print('Values that would be dropped: {:,}'.format(sum_counts))\n",
    "print('Artist that would be dropped: {:,}'.format(sum_counts_artist))\n",
    "# look at distribution \n",
    "count.plot(kind='kde')\n",
    "count.describe()"
   ]
  },
  {
   "cell_type": "code",
   "execution_count": 11,
   "metadata": {},
   "outputs": [
    {
     "name": "stdout",
     "output_type": "stream",
     "text": [
      "The observations seen above 1000 are 0 of 1152120, or 0.0 \n",
      "The observations seen above 500 are 35126 of 1152120, or 0.030488143596153178 \n",
      "The observations seen above 200 are 241486 of 1152120, or 0.20960143040655488 \n",
      "The observations seen above 150 are 307650 of 1152120, or 0.26702947609623995 \n",
      "The observations seen above 100 are 400288 of 1152120, or 0.3474360309689963 \n",
      "The observations seen above 80 are 449172 of 1152120, or 0.3898656389959379 \n",
      "The observations seen above 50 are 550717 of 1152120, or 0.47800315939311877 \n",
      "The observations seen above 30 are 644156 of 1152120, or 0.5591049543450335 \n",
      "The observations seen above 20 are 713886 of 1152120, or 0.6196281637329445 \n",
      "The observations seen above 10 are 820359 of 1152120, or 0.7120430163524633 \n",
      "The observations seen above 5 are 914895 of 1152120, or 0.7940969690657224 \n",
      "The observations seen above 2 are 1037288 of 1152120, or 0.9003298267541575 \n",
      "-----loop break-----\n",
      "The observations seen above 50 are 550717 of 1152120, or 0.47800315939311877 \n",
      "The observations seen above 55 are 529898 of 1152120, or 0.45993299309099744 \n",
      "The observations seen above 60 are 511882 of 1152120, or 0.44429573308335935 \n",
      "The observations seen above 65 are 494966 of 1152120, or 0.42961323473249313 \n",
      "The observations seen above 70 are 478758 of 1152120, or 0.415545255702531 \n",
      "The observations seen above 75 are 463144 of 1152120, or 0.4019928479672256 \n",
      "The observations seen above 80 are 449172 of 1152120, or 0.3898656389959379 \n",
      "The observations seen above 85 are 436065 of 1152120, or 0.3784892198729299 \n",
      "The observations seen above 90 are 423179 of 1152120, or 0.36730462104641876 \n",
      "The observations seen above 95 are 410955 of 1152120, or 0.3566946151442558 \n",
      "The observations seen above 100 are 400288 of 1152120, or 0.3474360309689963 \n"
     ]
    }
   ],
   "source": [
    "# I am trying to find a good cut off value to use for removing so many artist that I dont really need\n",
    "# I have around 16,000 users and 289,820 artist\n",
    "loop_list = [1000, 500, 200, 150, 100, 80, 50, 30, 20, 10, 5, 2]\n",
    "\n",
    "total = data_clean_df.shape[0]\n",
    "\n",
    "for i in loop_list:\n",
    "    sum_counts = count[count >= i].sum()\n",
    "    percent = sum_counts/total\n",
    "    print('The observations seen above {} are {} of {}, or {} '.format(i, sum_counts,total, percent))\n",
    "\n",
    "print('-----loop break-----')\n",
    "\n",
    "for i in range(50, 101, 5):\n",
    "    sum_counts = count[count >= i].sum()\n",
    "    percent = sum_counts/total\n",
    "    print('The observations seen above {} are {} of {}, or {} '.format(i, sum_counts,total, percent))"
   ]
  },
  {
   "cell_type": "code",
   "execution_count": 12,
   "metadata": {},
   "outputs": [
    {
     "name": "stdout",
     "output_type": "stream",
     "text": [
      "Values that would be dropped: 751,832\n"
     ]
    },
    {
     "data": {
      "text/plain": [
       "count    1900.000000\n",
       "mean      210.677895\n",
       "std       114.893272\n",
       "min       100.000000\n",
       "25%       124.000000\n",
       "50%       173.000000\n",
       "75%       259.250000\n",
       "max       814.000000\n",
       "Name: artistname, dtype: float64"
      ]
     },
     "execution_count": 12,
     "metadata": {},
     "output_type": "execute_result"
    },
    {
     "data": {
      "image/png": "[encoded data removed]",
      "text/plain": [
       "<Figure size 432x288 with 1 Axes>"
      ]
     },
     "metadata": {
      "needs_background": "light"
     },
     "output_type": "display_data"
    }
   ],
   "source": [
    "\n",
    "# Checks count of values under defined value that would be dropped\n",
    "sum_counts1 = count[count < 100].sum()\n",
    "print('Values that would be dropped: {:,}'.format(sum_counts1))\n",
    "\n",
    "# look at distribution \n",
    "count1_stat = count[count >= 100]\n",
    "count1_stat.plot(kind='kde')\n",
    "count1_stat.describe()\n",
    "\n",
    "# Lets roll with dropping artist that have only been observed less than 78 times.\n",
    "# The std of the dataset is 78.84378, I am going to test out 78 because its as close to the,\n",
    "# std of the dataset that I can get as these are int's. If this doesn't work I can go higher,\n",
    "# however, I REALLY want to preserve as much data as I possible can."
   ]
  },
  {
   "cell_type": "code",
   "execution_count": 13,
   "metadata": {},
   "outputs": [],
   "source": [
    "# Creating the condition\n",
    "mask = count[count >= 25].index\n",
    "\n",
    "# Applying the condition\n",
    "data_clean_filter_df = data_clean_df[data_clean_df['artistname'].isin(mask)]"
   ]
  },
  {
   "cell_type": "code",
   "execution_count": 14,
   "metadata": {},
   "outputs": [],
   "source": [
    "# Creating the sparse matrix\n",
    "sparse_df = data_clean_filter_df.pivot_table(index='artistname', columns='user', values='artist-value', fill_value=0)"
   ]
  },
  {
   "cell_type": "code",
   "execution_count": 15,
   "metadata": {},
   "outputs": [],
   "source": [
    "# It looks like dropping artist below 78 listens helped, and we were able to create the sparse matrix in 9.7s.\n",
    "# Lets see if I can tone that number down, dropping less, so that we can preserve the data.\n",
    "\n",
    "# Creating the condition\n",
    "mask = count[count >= 25].index\n",
    "\n",
    "# Applying the condition\n",
    "data_clean_filter_df = data_clean_df[data_clean_df['artistname'].isin(mask)]\n",
    "\n",
    "# Creating the sparse matrix\n",
    "sparse_df = data_clean_filter_df.pivot_table(index='artistname', columns='user', values='artist-value', fill_value=0)\n",
    "\n",
    "# I was playing around with it, I could go lower down to 10-15\n",
    "# However I still want it to be somewhat okay with the actual NMF calculations going forward.\n"
   ]
  },
  {
   "cell_type": "code",
   "execution_count": 16,
   "metadata": {},
   "outputs": [
    {
     "name": "stdout",
     "output_type": "stream",
     "text": [
      "The observations seen above 10 are 820359 of 1152120, or 0.2496840748140059 \n",
      "The observations seen above 11 are 806359 of 1152120, or 0.2454230414768985 \n",
      "The observations seen above 12 are 793423 of 1152120, or 0.24148584667341128 \n",
      "The observations seen above 13 are 781399 of 1152120, or 0.2378262277558842 \n",
      "The observations seen above 14 are 769829 of 1152120, or 0.234304788062289 \n",
      "The observations seen above 15 are 759455 of 1152120, or 0.23114736235949243 \n",
      "The observations seen above 16 are 749300 of 1152120, or 0.22805659139246917 \n",
      "The observations seen above 17 are 739796 of 1152120, or 0.2251639584756214 \n",
      "The observations seen above 18 are 730548 of 1152120, or 0.2223492415969379 \n",
      "The observations seen above 19 are 722664 of 1152120, or 0.21994967110909827 \n",
      "The observations seen above 20 are 713886 of 1152120, or 0.21727800320673193 \n",
      "The observations seen above 21 are 705426 of 1152120, or 0.21470312163302277 \n",
      "The observations seen above 22 are 696753 of 1152120, or 0.21206341148068475 \n",
      "The observations seen above 23 are 689317 of 1152120, or 0.20980019405963254 \n",
      "The observations seen above 24 are 682463 of 1152120, or 0.20771411388159441 \n",
      "The observations seen above 25 are 675479 of 1152120, or 0.205588466965426 \n"
     ]
    }
   ],
   "source": [
    "# Looking for my new cut off target\n",
    "for i in range(10, 26):\n",
    "    sum_counts = count[count >= i].sum()\n",
    "    percent = sum_counts/3285588\n",
    "    print('The observations seen above {} are {} of {}, or {} '.format(i, sum_counts, total, percent))"
   ]
  },
  {
   "cell_type": "code",
   "execution_count": 17,
   "metadata": {},
   "outputs": [],
   "source": [
    "# Rolling out the new condition and exporting the sparse matrix\n",
    "# The observations seen above 15 are 2670232 of 3285588, or 0.8127105407007817\n",
    "# Lets go with the cut-off of 15, that means we were still about to preserve 81.27% of the data.\n",
    "\n",
    "# Creating the condition\n",
    "mask = count[count >= 25].index\n",
    "\n",
    "# Applying the condition\n",
    "data_clean_filter_df = data_clean_df[data_clean_df['artistname'].isin(mask)]\n",
    "\n",
    "# Creating the sparse matrix\n",
    "sparse_df = data_clean_filter_df.pivot_table(index='artistname', columns='user', values='artist-value', fill_value=0)\n",
    "\n",
    "# Exporting\n",
    "sparse_df.to_csv('spotify-sparse.csv')"
   ]
  },
  {
   "cell_type": "code",
   "execution_count": 154,
   "metadata": {},
   "outputs": [],
   "source": [
    "sparse_df.to_csv('spotify-sparse5.csv')"
   ]
  },
  {
   "cell_type": "markdown",
   "metadata": {},
   "source": [
    "#### For Testing\n",
    "This is for adjusting the sparse matrix so I can find what works best. You have to run the first few cells first before coming here. Also to reset, you have to re-run the first few cells. Afterwards, you can come here and re-run the conditions. Note that you have to run the cell TWICE as you have to run conditions again after you did another condition. ie. user will affect artist and because artist is affected, user will be as well. So re-run twice."
   ]
  },
  {
   "cell_type": "code",
   "execution_count": 19,
   "metadata": {},
   "outputs": [],
   "source": [
    "# Machine spec: 11th Gen Intel(R) Core(TM) i7-1185G7 @ 3.00GHz\n",
    "# 8 CPU Cores, cores were clocked during training time at 4.20GHz on average.\n",
    "\n",
    "# (596, 364) working, at >= 1000 user 100 artist, time: 0mins 25.7sec, saved as sparse\n",
    "# (4823, 463) working, at >= 900 user 25 artist, time: 4mins 19.6sec, saved as sparse1\n",
    "# (2173, 463) working, at >= 900 user 50 artist, time: 2min 2.2sec, saved as sparse2\n",
    "# (5231, 536) working, at >= 850 user 25 artist, time: 6min 18.9sec, saved as sparse3\n",
    "# (6094, 707) working, at >= 750 user 25 artist, time: 12min 46.7sec, saved as sparse4\n",
    "# (7703, 1121) working, at >= 600 user 25 artist, time: 40min 11.4sec, saved as sparse5\n",
    "\n",
    "# Adjustable values, selects X that has >= Y number of observations in the dataframe\n",
    "user_adjust = 600\n",
    "artist_adjust = 25\n",
    "\n",
    "# Gathering variables\n",
    "count_user = data_clean_df['user'].value_counts()\n",
    "count = data_clean_df['artistname'].value_counts()\n",
    "\n",
    "# For user drop\n",
    "# Creating the condition\n",
    "mask = count_user[count_user >= user_adjust].index\n",
    "# Applying the condition\n",
    "data_clean_df = data_clean_df[data_clean_df['user'].isin(mask)]\n",
    "\n",
    "\n",
    "# For artist drop\n",
    "# Creating the condition\n",
    "mask = count[count >= artist_adjust].index\n",
    "# Applying the condition\n",
    "data_clean_filter_df = data_clean_df[data_clean_df['artistname'].isin(mask)]\n",
    "\n",
    "\n",
    "# Creating the sparse matrix\n",
    "sparse_df = data_clean_filter_df.pivot_table(index='artistname', columns='user', values='artist-value', fill_value=0)"
   ]
  }
 ],
 "metadata": {
  "kernelspec": {
   "display_name": "Python 3.9.7 ('base')",
   "language": "python",
   "name": "python3"
  },
  "language_info": {
   "codemirror_mode": {
    "name": "ipython",
    "version": 3
   },
   "file_extension": ".py",
   "mimetype": "text/x-python",
   "name": "python",
   "nbconvert_exporter": "python",
   "pygments_lexer": "ipython3",
   "version": "3.9.7"
  },
  "orig_nbformat": 4,
  "vscode": {
   "interpreter": {
    "hash": "ad2bdc8ecc057115af97d19610ffacc2b4e99fae6737bb82f5d7fb13d2f2c186"
   }
  }
 },
 "nbformat": 4,
 "nbformat_minor": 2
}
