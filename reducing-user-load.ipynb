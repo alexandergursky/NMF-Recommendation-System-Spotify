{
 "cells": [
  {
   "cell_type": "code",
   "execution_count": 29,
   "metadata": {},
   "outputs": [],
   "source": [
    "import pandas as pd\n",
    "\n",
    "master_df = pd.read_csv('/Users/alexandergursky/Local_Repository/Datasets/Dataset_Package/Spotify_Users/spotify_dataset.csv',on_bad_lines='skip')"
   ]
  },
  {
   "cell_type": "code",
   "execution_count": 30,
   "metadata": {},
   "outputs": [
    {
     "name": "stdout",
     "output_type": "stream",
     "text": [
      "Index(['user_id', ' \"artistname\"', ' \"trackname\"', ' \"playlistname\"'], dtype='object')\n"
     ]
    }
   ],
   "source": [
    "print(master_df.columns)"
   ]
  },
  {
   "cell_type": "code",
   "execution_count": 31,
   "metadata": {},
   "outputs": [],
   "source": [
    "df = master_df.drop(' \"playlistname\"', axis=1)"
   ]
  },
  {
   "cell_type": "code",
   "execution_count": 32,
   "metadata": {},
   "outputs": [],
   "source": [
    "df = df.rename(columns={' \"artistname\"':'artistname',' \"trackname\"': 'trackname'})"
   ]
  },
  {
   "cell_type": "code",
   "execution_count": 33,
   "metadata": {},
   "outputs": [
    {
     "name": "stdout",
     "output_type": "stream",
     "text": [
      "Index(['user_id', 'artistname', 'trackname'], dtype='object')\n"
     ]
    }
   ],
   "source": [
    "print(df.columns)"
   ]
  },
  {
   "cell_type": "code",
   "execution_count": 34,
   "metadata": {},
   "outputs": [
    {
     "name": "stdout",
     "output_type": "stream",
     "text": [
      "15918\n",
      "0\n"
     ]
    }
   ],
   "source": [
    "print(df['user_id'].nunique())\n",
    "print(df['user_id'].isna().sum())"
   ]
  },
  {
   "cell_type": "code",
   "execution_count": 35,
   "metadata": {},
   "outputs": [
    {
     "name": "stdout",
     "output_type": "stream",
     "text": [
      "                            user_id                        artistname  \\\n",
      "0  9cc0cfd4d7d7885102480dd99e7a90d6                    Elvis Costello   \n",
      "1  9cc0cfd4d7d7885102480dd99e7a90d6  Elvis Costello & The Attractions   \n",
      "2  9cc0cfd4d7d7885102480dd99e7a90d6                      Tiffany Page   \n",
      "3  9cc0cfd4d7d7885102480dd99e7a90d6  Elvis Costello & The Attractions   \n",
      "4  9cc0cfd4d7d7885102480dd99e7a90d6                    Elvis Costello   \n",
      "5  9cc0cfd4d7d7885102480dd99e7a90d6                            Lissie   \n",
      "6  9cc0cfd4d7d7885102480dd99e7a90d6                    Paul McCartney   \n",
      "7  9cc0cfd4d7d7885102480dd99e7a90d6                          Joe Echo   \n",
      "8  9cc0cfd4d7d7885102480dd99e7a90d6                    Paul McCartney   \n",
      "9  9cc0cfd4d7d7885102480dd99e7a90d6                            Lissie   \n",
      "\n",
      "                                           trackname  \n",
      "0               (The Angels Wanna Wear My) Red Shoes  \n",
      "1  (What's So Funny 'Bout) Peace, Love And Unders...  \n",
      "2                                   7 Years Too Late  \n",
      "3                              Accidents Will Happen  \n",
      "4                                             Alison  \n",
      "5                                        All Be Okay  \n",
      "6                                    Band On The Run  \n",
      "7                                          Beautiful  \n",
      "8  Blackbird - Live at CitiField, NYC - Digital A...  \n",
      "9                                        Bright Side  \n"
     ]
    }
   ],
   "source": [
    "print(df.head(10))"
   ]
  },
  {
   "cell_type": "code",
   "execution_count": 36,
   "metadata": {},
   "outputs": [
    {
     "name": "stdout",
     "output_type": "stream",
     "text": [
      "                            user_id      artistname        trackname\n",
      "6  9cc0cfd4d7d7885102480dd99e7a90d6  Paul McCartney  Band On The Run\n"
     ]
    }
   ],
   "source": [
    "print(df.loc[(df['user_id']== '9cc0cfd4d7d7885102480dd99e7a90d6') & (df['trackname'] == 'Band On The Run')])"
   ]
  },
  {
   "cell_type": "code",
   "execution_count": 37,
   "metadata": {},
   "outputs": [],
   "source": [
    "#new_df = df.pivot_table(index='artistname', columns='user', values='trackname', aggfunc='count', fill_value=0)\n",
    "\n",
    "df['user'], _ = pd.factorize(df['user_id'])\n"
   ]
  },
  {
   "cell_type": "code",
   "execution_count": 38,
   "metadata": {},
   "outputs": [
    {
     "name": "stdout",
     "output_type": "stream",
     "text": [
      "user_id       15a630d2538221cc201e52b9a0976049\n",
      "artistname                     Christian Scott\n",
      "trackname              Fatima Aisha Rokero 400\n",
      "user                                     12402\n",
      "Name: 9999999, dtype: object\n"
     ]
    }
   ],
   "source": [
    "print(df.iloc[9999999])"
   ]
  },
  {
   "cell_type": "code",
   "execution_count": 39,
   "metadata": {},
   "outputs": [],
   "source": [
    "df = df.drop('user_id', axis=1)"
   ]
  },
  {
   "cell_type": "code",
   "execution_count": 40,
   "metadata": {},
   "outputs": [
    {
     "name": "stdout",
     "output_type": "stream",
     "text": [
      "Index(['artistname', 'trackname', 'user'], dtype='object')\n"
     ]
    }
   ],
   "source": [
    "print(df.columns)"
   ]
  },
  {
   "cell_type": "code",
   "execution_count": 41,
   "metadata": {},
   "outputs": [
    {
     "name": "stdout",
     "output_type": "stream",
     "text": [
      "                         artistname  \\\n",
      "0                    Elvis Costello   \n",
      "1  Elvis Costello & The Attractions   \n",
      "2                      Tiffany Page   \n",
      "3  Elvis Costello & The Attractions   \n",
      "4                    Elvis Costello   \n",
      "\n",
      "                                           trackname  user  \n",
      "0               (The Angels Wanna Wear My) Red Shoes     0  \n",
      "1  (What's So Funny 'Bout) Peace, Love And Unders...     0  \n",
      "2                                   7 Years Too Late     0  \n",
      "3                              Accidents Will Happen     0  \n",
      "4                                             Alison     0  \n"
     ]
    }
   ],
   "source": [
    "print(df.head())"
   ]
  },
  {
   "cell_type": "code",
   "execution_count": 42,
   "metadata": {},
   "outputs": [],
   "source": [
    "#new_df = df.pivot_table(index='artistname', columns='user', values='trackname', aggfunc='count', fill_value=0)\n",
    "\n",
    "# groupby username and artist, then count the number of occurrences of artist\n",
    "artist_count = df.groupby(['user', 'artistname']).size().reset_index(name='artist-value')\n",
    "\n",
    "# merge artist_count with original dataframe\n",
    "df = pd.merge(df, artist_count, on=['user', 'artistname'], how='left')"
   ]
  },
  {
   "cell_type": "code",
   "execution_count": 43,
   "metadata": {},
   "outputs": [
    {
     "name": "stdout",
     "output_type": "stream",
     "text": [
      "                         artistname  \\\n",
      "0                    Elvis Costello   \n",
      "1  Elvis Costello & The Attractions   \n",
      "2                      Tiffany Page   \n",
      "3  Elvis Costello & The Attractions   \n",
      "4                    Elvis Costello   \n",
      "5                            Lissie   \n",
      "6                    Paul McCartney   \n",
      "7                          Joe Echo   \n",
      "8                    Paul McCartney   \n",
      "9                            Lissie   \n",
      "\n",
      "                                           trackname  user  artist-value  \n",
      "0               (The Angels Wanna Wear My) Red Shoes     0           3.0  \n",
      "1  (What's So Funny 'Bout) Peace, Love And Unders...     0           3.0  \n",
      "2                                   7 Years Too Late     0           4.0  \n",
      "3                              Accidents Will Happen     0           3.0  \n",
      "4                                             Alison     0           3.0  \n",
      "5                                        All Be Okay     0           8.0  \n",
      "6                                    Band On The Run     0           4.0  \n",
      "7                                          Beautiful     0          11.0  \n",
      "8  Blackbird - Live at CitiField, NYC - Digital A...     0           4.0  \n",
      "9                                        Bright Side     0           8.0  \n"
     ]
    }
   ],
   "source": [
    "print(df.head(10))"
   ]
  },
  {
   "cell_type": "code",
   "execution_count": 44,
   "metadata": {},
   "outputs": [],
   "source": [
    "df = df.drop('trackname', axis=1)"
   ]
  },
  {
   "cell_type": "code",
   "execution_count": 45,
   "metadata": {},
   "outputs": [],
   "source": [
    "dupdrop_df = df.drop_duplicates(subset=['artistname', 'user'])"
   ]
  },
  {
   "cell_type": "code",
   "execution_count": 46,
   "metadata": {},
   "outputs": [
    {
     "name": "stdout",
     "output_type": "stream",
     "text": [
      "                          artistname  user  artist-value\n",
      "0                     Elvis Costello     0           3.0\n",
      "1   Elvis Costello & The Attractions     0           3.0\n",
      "2                       Tiffany Page     0           4.0\n",
      "5                             Lissie     0           8.0\n",
      "6                     Paul McCartney     0           4.0\n",
      "7                           Joe Echo     0          11.0\n",
      "10                      The Breakers     0           3.0\n",
      "12                       The Coronas     0           2.0\n",
      "13                     Crowded House     0           6.0\n",
      "17                      Joshua Radin     0           5.0\n"
     ]
    }
   ],
   "source": [
    "print(dupdrop_df.head(10))"
   ]
  },
  {
   "cell_type": "code",
   "execution_count": 47,
   "metadata": {},
   "outputs": [],
   "source": [
    "dupdrop_df.to_csv('/Users/alexandergursky/Local_Repository/Datasets/Dataset_Package/Spotify_Users/artist-user-countlisten.csv')"
   ]
  }
 ],
 "metadata": {
  "kernelspec": {
   "display_name": "Python 3",
   "language": "python",
   "name": "python3"
  },
  "language_info": {
   "codemirror_mode": {
    "name": "ipython",
    "version": 3
   },
   "file_extension": ".py",
   "mimetype": "text/x-python",
   "name": "python",
   "nbconvert_exporter": "python",
   "pygments_lexer": "ipython3",
   "version": "3.11.0"
  },
  "orig_nbformat": 4
 },
 "nbformat": 4,
 "nbformat_minor": 2
}
