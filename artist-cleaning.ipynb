{
 "cells": [
  {
   "cell_type": "code",
   "execution_count": 1,
   "metadata": {},
   "outputs": [
    {
     "data": {
      "text/html": [
       "<div>\n",
       "<style scoped>\n",
       "    .dataframe tbody tr th:only-of-type {\n",
       "        vertical-align: middle;\n",
       "    }\n",
       "\n",
       "    .dataframe tbody tr th {\n",
       "        vertical-align: top;\n",
       "    }\n",
       "\n",
       "    .dataframe thead th {\n",
       "        text-align: right;\n",
       "    }\n",
       "</style>\n",
       "<table border=\"1\" class=\"dataframe\">\n",
       "  <thead>\n",
       "    <tr style=\"text-align: right;\">\n",
       "      <th></th>\n",
       "      <th>artistname</th>\n",
       "      <th>user</th>\n",
       "      <th>artist-value</th>\n",
       "    </tr>\n",
       "  </thead>\n",
       "  <tbody>\n",
       "    <tr>\n",
       "      <th>0</th>\n",
       "      <td>Elvis Costello</td>\n",
       "      <td>0</td>\n",
       "      <td>3</td>\n",
       "    </tr>\n",
       "    <tr>\n",
       "      <th>1</th>\n",
       "      <td>Elvis Costello &amp; The Attractions</td>\n",
       "      <td>0</td>\n",
       "      <td>3</td>\n",
       "    </tr>\n",
       "    <tr>\n",
       "      <th>2</th>\n",
       "      <td>Tiffany Page</td>\n",
       "      <td>0</td>\n",
       "      <td>4</td>\n",
       "    </tr>\n",
       "    <tr>\n",
       "      <th>3</th>\n",
       "      <td>Lissie</td>\n",
       "      <td>0</td>\n",
       "      <td>8</td>\n",
       "    </tr>\n",
       "    <tr>\n",
       "      <th>4</th>\n",
       "      <td>Paul McCartney</td>\n",
       "      <td>0</td>\n",
       "      <td>4</td>\n",
       "    </tr>\n",
       "  </tbody>\n",
       "</table>\n",
       "</div>"
      ],
      "text/plain": [
       "                         artistname  user  artist-value\n",
       "0                    Elvis Costello     0             3\n",
       "1  Elvis Costello & The Attractions     0             3\n",
       "2                      Tiffany Page     0             4\n",
       "3                            Lissie     0             8\n",
       "4                    Paul McCartney     0             4"
      ]
     },
     "execution_count": 1,
     "metadata": {},
     "output_type": "execute_result"
    }
   ],
   "source": [
    "import numpy as np\n",
    "import pandas as pd\n",
    "import re\n",
    "\n",
    "data = pd.read_csv('spotify-compressed.csv')\n",
    "data = data.drop('Unnamed: 0', axis=1)\n",
    "data.head()"
   ]
  },
  {
   "cell_type": "code",
   "execution_count": 2,
   "metadata": {},
   "outputs": [
    {
     "name": "stdout",
     "output_type": "stream",
     "text": [
      "(3285631, 3)\n",
      "(3285588, 3)\n",
      "artistname      object\n",
      "user             int64\n",
      "artist-value     int64\n",
      "dtype: object\n"
     ]
    }
   ],
   "source": [
    "print(data.shape)\n",
    "\n",
    "# Removing blanks\n",
    "data['artistname'] = data['artistname'].replace(' ', np.nan)\n",
    "data = data.dropna()\n",
    "\n",
    "# Regex time, dropping any observations with only blank spaces\n",
    "data['artistname'] = data['artistname'].replace(r'^\\s*$', np.nan, regex=True)\n",
    "data = data.dropna()\n",
    "\n",
    "print(data.shape)\n",
    "print(data.dtypes)"
   ]
  },
  {
   "cell_type": "code",
   "execution_count": 3,
   "metadata": {},
   "outputs": [
    {
     "data": {
      "text/html": [
       "<div>\n",
       "<style scoped>\n",
       "    .dataframe tbody tr th:only-of-type {\n",
       "        vertical-align: middle;\n",
       "    }\n",
       "\n",
       "    .dataframe tbody tr th {\n",
       "        vertical-align: top;\n",
       "    }\n",
       "\n",
       "    .dataframe thead th {\n",
       "        text-align: right;\n",
       "    }\n",
       "</style>\n",
       "<table border=\"1\" class=\"dataframe\">\n",
       "  <thead>\n",
       "    <tr style=\"text-align: right;\">\n",
       "      <th></th>\n",
       "      <th>artistname</th>\n",
       "      <th>user</th>\n",
       "      <th>artist-value</th>\n",
       "    </tr>\n",
       "  </thead>\n",
       "  <tbody>\n",
       "    <tr>\n",
       "      <th>0</th>\n",
       "      <td>Elvis Costello</td>\n",
       "      <td>0</td>\n",
       "      <td>3</td>\n",
       "    </tr>\n",
       "    <tr>\n",
       "      <th>1</th>\n",
       "      <td>Elvis Costello and The Attractions</td>\n",
       "      <td>0</td>\n",
       "      <td>3</td>\n",
       "    </tr>\n",
       "    <tr>\n",
       "      <th>2</th>\n",
       "      <td>Tiffany Page</td>\n",
       "      <td>0</td>\n",
       "      <td>4</td>\n",
       "    </tr>\n",
       "    <tr>\n",
       "      <th>3</th>\n",
       "      <td>Lissie</td>\n",
       "      <td>0</td>\n",
       "      <td>8</td>\n",
       "    </tr>\n",
       "    <tr>\n",
       "      <th>4</th>\n",
       "      <td>Paul McCartney</td>\n",
       "      <td>0</td>\n",
       "      <td>4</td>\n",
       "    </tr>\n",
       "  </tbody>\n",
       "</table>\n",
       "</div>"
      ],
      "text/plain": [
       "                           artistname  user  artist-value\n",
       "0                      Elvis Costello     0             3\n",
       "1  Elvis Costello and The Attractions     0             3\n",
       "2                        Tiffany Page     0             4\n",
       "3                              Lissie     0             8\n",
       "4                      Paul McCartney     0             4"
      ]
     },
     "execution_count": 3,
     "metadata": {},
     "output_type": "execute_result"
    }
   ],
   "source": [
    "# Changing '&' to 'and' so later on, the character will not be removed\n",
    "data['artistname'] = data['artistname'].str.replace('&', 'and')\n",
    "\n",
    "# Changing ` to '\n",
    "# Removing the '\n",
    "data['artistname'] = data['artistname'].str.replace('`', \"'\")\n",
    "data['artistname'] = data['artistname'].str.replace(\"'\", '')\n",
    "data.head()"
   ]
  },
  {
   "cell_type": "code",
   "execution_count": 4,
   "metadata": {},
   "outputs": [],
   "source": [
    "import unicodedata\n",
    "import re\n",
    "\n",
    "def remove_accents(text):\n",
    "    return ''.join(c for c in unicodedata.normalize('NFD', text) if unicodedata.category(c) != 'Mn')\n",
    "\n",
    "pattern = re.compile(r'[^\\w$!@|,\\']+', re.UNICODE)\n",
    "\n",
    "data['artistname'] = data['artistname'].apply(remove_accents)\n",
    "data['artistname'] = data['artistname'].str.replace(pattern, ' ', regex=True)\n"
   ]
  },
  {
   "cell_type": "code",
   "execution_count": 5,
   "metadata": {},
   "outputs": [],
   "source": [
    "data['artistname']= data['artistname'].str.replace('Ø', 'o')\n",
    "data['artistname']= data['artistname'].str.replace('ø', 'o')\n",
    "data['artistname'] = data['artistname'].str.replace(r'(?<!A\\$AP\\s)Rocky', 'A$AP Rocky', regex=True)\n",
    "data['artistname'] = data['artistname'].str.replace(r'(?<!A\\$AP\\s)Rockie', 'A$AP Rocky', regex=True)\n",
    "data['artistname'] = data['artistname'].str.replace(r'(?<!A\\$AP\\s)Ferg', 'A$AP Ferg', regex=True)\n",
    "data['artistname']= data['artistname'].str.replace('ASAP ', '')\n",
    "data['artistname']= data['artistname'].str.upper()\n",
    "data['artistname']= data['artistname'].str.replace('2PAC', '2 PAC')\n",
    "data['artistname']= data['artistname'].str.replace(' FEATURE ', 'FEAT')\n",
    "data['artistname']= data['artistname'].str.replace(' FEATURING ', 'FEAT')\n",
    "data['artistname']= data['artistname'].str.replace(' FT ', 'FEAT')\n"
   ]
  },
  {
   "cell_type": "code",
   "execution_count": 6,
   "metadata": {},
   "outputs": [],
   "source": [
    "# Splitting all observations on feat or Feat or feat. or Feat. to split and create a new observation.\n",
    "# Holding user and artist-value the same for the dupe.\n",
    "# Define the pattern\n",
    "pattern = r'\\s+(FEAT\\.?|\\&)\\s+'\n",
    "\n",
    "# Split the artistname column based on the pattern\n",
    "data['artistname'] = data['artistname'].str.split(pattern)\n",
    "\n",
    "# Repeat the other columns for each split\n",
    "data = data.explode('artistname').reset_index(drop=True)\n",
    "data = data.reindex(data.index.repeat(data['user'].apply(lambda x: len(x) if isinstance(x, list) else 1)))\n",
    "data['artistname'] = data['artistname'].str.strip()\n",
    "data['user'] = data['user'].astype(int)"
   ]
  },
  {
   "cell_type": "code",
   "execution_count": 7,
   "metadata": {},
   "outputs": [
    {
     "name": "stdout",
     "output_type": "stream",
     "text": [
      "2369663                                    葉麗儀\n",
      "1962541          محمد السالم MOHAMMAD AL SALEM\n",
      "2856085                               TANK 呂建中\n",
      "2964476                        СЕРГЕИ ТРОФИМОВ\n",
      "249662     HIJOS DEL 5² PATIO MALDITA VECINDAD\n",
      "1307887                                     王菲\n",
      "245823                              WANNSKRÆKK\n",
      "1657102                           MICHAŁ BAJOR\n",
      "2940161                 СМЫСЛОВЫЕ ГАЛЛЮЦИНАЦИИ\n",
      "1974040                                    王若琳\n",
      "2430545                          CÆCILIE NORBY\n",
      "1626548              소녀시대 GIRLS GENERATION\n",
      "2158684                               소녀시대\n",
      "2546840                         CŒUR DE PIRATE\n",
      "1197021                                     白光\n",
      "1169018                                คาราบาว\n",
      "709848                                      李玟\n",
      "233532                               АНИ ЛОРАК\n",
      "2451373                                    莫文蔚\n",
      "2233812                     WITOLD LUTOSŁAWSKI\n",
      "1690460                                  HÆLOS\n",
      "1187960                                    張芸京\n",
      "3260586                                 ALPHA²\n",
      "1919915                       ДИСКОТЕКА АВАРИЯ\n",
      "3151655                                     光良\n",
      "Name: artistname, dtype: object\n"
     ]
    }
   ],
   "source": [
    "# Preview what will be dropped\n",
    "dropped = data[data['artistname'].str.contains(r'[^\\x20-\\x7E]')]\n",
    "sample = dropped['artistname'].sample(n=25)\n",
    "print(sample)"
   ]
  },
  {
   "cell_type": "code",
   "execution_count": 8,
   "metadata": {},
   "outputs": [
    {
     "name": "stdout",
     "output_type": "stream",
     "text": [
      "(3333132, 3)\n",
      "(3274305, 3)\n"
     ]
    }
   ],
   "source": [
    "print(data.shape)\n",
    "\n",
    "# Deleting anything that has a weird notation or emojis, such as any character that is not in the English alphabet, a number, or a printable character.\n",
    "# create a boolean mask for the observations that match the pattern\n",
    "mask = data['artistname'].str.contains(r'[^\\x20-\\x7E]')\n",
    "data = data[~mask]\n",
    "data = data.dropna()\n",
    "\n",
    "# Regex time, dropping any observations with only blank spaces\n",
    "data['artistname'] = data['artistname'].replace(r'^\\s*$', np.nan, regex=True)\n",
    "\n",
    "# Drop observations that contain only FEAT, this is from the split I did earlier\n",
    "data['artistname'] = data['artistname'].replace('FEAT', np.nan, regex=True)\n",
    "\n",
    "data = data.dropna()\n",
    "\n",
    "# Dropping all observations that contain a , as that is obscure/rare. \n",
    "# If an artist was a feature it should have been listed as so.\n",
    "data = data[~data['artistname'].str.contains(',')]\n",
    "\n",
    "data = data.dropna()\n",
    "\n",
    "print(data.shape)"
   ]
  },
  {
   "cell_type": "code",
   "execution_count": 9,
   "metadata": {},
   "outputs": [
    {
     "name": "stdout",
     "output_type": "stream",
     "text": [
      "(3272298, 3)\n"
     ]
    }
   ],
   "source": [
    "# Dropping observations that only contain numbers in the artist name column\n",
    "data = data[~data['artistname'].str.isdigit()]\n",
    "\n",
    "print(data.shape)"
   ]
  },
  {
   "cell_type": "code",
   "execution_count": 10,
   "metadata": {},
   "outputs": [],
   "source": [
    "# Drops\n",
    "data = data[data['artistname'] != 'VARIOUS ARTIST']\n",
    "data = data[data['artistname'] != 'VARIOUS ARTISTS']\n",
    "data = data[data['artistname'] != 'ARTIST']\n"
   ]
  },
  {
   "cell_type": "code",
   "execution_count": 11,
   "metadata": {},
   "outputs": [],
   "source": [
    "grouped = data.groupby('artistname')['artist-value'].sum().reset_index()\n",
    "\n",
    "# drop all artist below 50 plays\n",
    "grouped = grouped[grouped['artist-value'] >= 50]\n",
    "\n",
    "# Sorting \n",
    "grouped = grouped.sort_values('artist-value', ascending=True)\n",
    "\n",
    "# mask of names to keep\n",
    "artist_keep = grouped['artistname']\n",
    "\n",
    "# applying the mask\n",
    "data = data[data['artistname'].isin(artist_keep)]"
   ]
  },
  {
   "cell_type": "code",
   "execution_count": 12,
   "metadata": {},
   "outputs": [],
   "source": [
    "data['artistname'] = data['artistname'].str.title()"
   ]
  },
  {
   "cell_type": "code",
   "execution_count": 13,
   "metadata": {},
   "outputs": [],
   "source": [
    "# Creating the sparse matrix\n",
    "sparse_df = data.pivot_table(index='artistname', columns='user', values='artist-value', fill_value=0)"
   ]
  },
  {
   "cell_type": "code",
   "execution_count": 14,
   "metadata": {},
   "outputs": [],
   "source": [
    "# checking to make sure the columns contain at least one value.\n",
    "zero_sum_columns = sparse_df.columns[sparse_df.sum() == 0].to_list()"
   ]
  },
  {
   "cell_type": "code",
   "execution_count": 15,
   "metadata": {},
   "outputs": [
    {
     "name": "stdout",
     "output_type": "stream",
     "text": [
      "user              0  1  2  3  4\n",
      "artistname                     \n",
      "!!!               0  0  0  0  0\n",
      "!Dela Dap         0  0  0  0  0\n",
      "007 Collective    0  0  0  0  0\n",
      "009 Sound System  0  0  0  0  0\n",
      "1 Dads            0  0  0  0  0\n"
     ]
    }
   ],
   "source": [
    "print(sparse_df.iloc[:5,:5])"
   ]
  },
  {
   "cell_type": "code",
   "execution_count": 16,
   "metadata": {},
   "outputs": [],
   "source": [
    "sparse_df = sparse_df.reset_index()"
   ]
  },
  {
   "cell_type": "code",
   "execution_count": 17,
   "metadata": {},
   "outputs": [
    {
     "name": "stdout",
     "output_type": "stream",
     "text": [
      "0                                  !!!\n",
      "1                            !Dela Dap\n",
      "2                       007 Collective\n",
      "3                     009 Sound System\n",
      "4                               1 Dads\n",
      "5                           1 Hits Now\n",
      "6                             10 Years\n",
      "7                                 100S\n",
      "8     101 Classical Music Masterpieces\n",
      "9                101 Strings Orchestra\n",
      "10                                10Cc\n",
      "11                          116 Clique\n",
      "12                           12 Rounds\n",
      "13                           12 Stones\n",
      "14                            120 Days\n",
      "15                     1200 Micrograms\n",
      "16                         12Th Planet\n",
      "17                             13 Cats\n",
      "18                           140 Farts\n",
      "19                                14Kt\n",
      "Name: artistname, dtype: object\n"
     ]
    }
   ],
   "source": [
    "print(sparse_df['artistname'].head(20))"
   ]
  },
  {
   "cell_type": "code",
   "execution_count": 18,
   "metadata": {},
   "outputs": [],
   "source": [
    "sparse_df.to_csv('sparse-artist-cleaning.csv', index= False)"
   ]
  },
  {
   "cell_type": "markdown",
   "metadata": {},
   "source": [
    "load the df and continue from this point"
   ]
  },
  {
   "cell_type": "code",
   "execution_count": 19,
   "metadata": {},
   "outputs": [],
   "source": [
    "import pandas as pd\n",
    "sparse_df = pd.read_csv('sparse-artist-cleaning.csv')"
   ]
  },
  {
   "cell_type": "code",
   "execution_count": 20,
   "metadata": {},
   "outputs": [],
   "source": [
    "sparse_df = sparse_df.groupby(['artistname']).sum()"
   ]
  },
  {
   "cell_type": "markdown",
   "metadata": {},
   "source": [
    "- observations like 2020SOUNDSYSTEM and 009 SOUND SYSTEM need to be fixed, and concat\n",
    "- observations like 2PAC and 2 PAC need to be fixed, and concat\n",
    "- observations that only contain numbers need to be removed\n",
    "- observations like DEF LEOPARD and DEF LEPPARD, FEMKE and FEMME, MOCKI and MOCKINGBYRDS, PURSUIT and PURSUIT OF HAPPINESS need to be spell corrected\n"
   ]
  },
  {
   "cell_type": "code",
   "execution_count": 21,
   "metadata": {},
   "outputs": [
    {
     "name": "stdout",
     "output_type": "stream",
     "text": [
      "                                            0  1  2  3  4\n",
      "artistname                                               \n",
      "Chicks On Speed                             0  0  0  0  0\n",
      "Chico And Rita New York Band And Orchestra  0  0  0  0  0\n",
      "Chico Buarque                               0  0  0  0  0\n",
      "Chico Debarge                               0  0  0  0  0\n",
      "Chico Hamilton                              0  0  0  0  0\n",
      "Chico Mann                                  0  0  0  0  0\n",
      "Chico Science                               0  0  0  0  0\n",
      "Chico Trujillo                              0  0  0  0  0\n",
      "Chico Y Chica                               0  0  0  0  0\n",
      "Chiddy Bang                                 0  0  0  0  0\n",
      "Chief                                       0  0  0  0  0\n",
      "Chief Commander Ebenezer Obey               0  0  0  0  0\n",
      "Chief Keef                                  0  0  0  0  0\n",
      "Chiens De Paille                            0  0  0  0  0\n",
      "Chihei Hatakeyama                           0  0  0  0  0\n",
      "Chikita Violenta                            0  0  0  0  0\n",
      "Chila Lynn                                  0  0  0  0  0\n",
      "Child Piano Academy                         0  0  0  0  0\n",
      "Childhood                                   0  0  0  0  0\n",
      "Childish Gambino                            0  0  0  0  0\n",
      "Children 18 3                               0  0  0  0  0\n",
      "Children Of Bodom                           0  0  0  0  0\n",
      "Chili Cold Blood                            0  0  0  0  0\n",
      "Chill House Music Cafe                      0  0  0  0  0\n",
      "Chill Lounge Music Bar La Luna A Ibiza      0  0  0  0  0\n",
      "Chill Lounge Players                        0  0  0  0  0\n"
     ]
    },
    {
     "name": "stderr",
     "output_type": "stream",
     "text": [
      "C:\\Users\\ag07527\\AppData\\Local\\Temp/ipykernel_19044/2213547538.py:3: DeprecationWarning: This function is deprecated. Please call randint(1, 23372 + 1) instead\n",
      "  i = np.random.random_integers(23372)\n"
     ]
    }
   ],
   "source": [
    "import numpy as np\n",
    "\n",
    "i = np.random.random_integers(23372)\n",
    "j = i + 26\n",
    "\n",
    "print(sparse_df.iloc[i:j,:5])"
   ]
  }
 ],
 "metadata": {
  "kernelspec": {
   "display_name": "Python 3.9.7 ('base')",
   "language": "python",
   "name": "python3"
  },
  "language_info": {
   "codemirror_mode": {
    "name": "ipython",
    "version": 3
   },
   "file_extension": ".py",
   "mimetype": "text/x-python",
   "name": "python",
   "nbconvert_exporter": "python",
   "pygments_lexer": "ipython3",
   "version": "3.9.7"
  },
  "orig_nbformat": 4,
  "vscode": {
   "interpreter": {
    "hash": "ad2bdc8ecc057115af97d19610ffacc2b4e99fae6737bb82f5d7fb13d2f2c186"
   }
  }
 },
 "nbformat": 4,
 "nbformat_minor": 2
}
