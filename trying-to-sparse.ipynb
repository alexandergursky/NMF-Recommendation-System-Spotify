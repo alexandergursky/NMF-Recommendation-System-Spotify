{
 "cells": [
  {
   "cell_type": "code",
   "execution_count": 17,
   "metadata": {},
   "outputs": [
    {
     "name": "stdout",
     "output_type": "stream",
     "text": [
      "   Unnamed: 0                        artistname  user  artist-value\n",
      "0           0                    Elvis Costello     0           3.0\n",
      "1           1  Elvis Costello & The Attractions     0           3.0\n",
      "2           2                      Tiffany Page     0           4.0\n",
      "3           5                            Lissie     0           8.0\n",
      "4           6                    Paul McCartney     0           4.0\n",
      "5           7                          Joe Echo     0          11.0\n",
      "6          10                      The Breakers     0           3.0\n",
      "7          12                       The Coronas     0           2.0\n",
      "8          13                     Crowded House     0           6.0\n",
      "9          17                      Joshua Radin     0           5.0\n",
      "Index(['Unnamed: 0', 'artistname', 'user', 'artist-value'], dtype='object')\n"
     ]
    }
   ],
   "source": [
    "import pandas as pd\n",
    "\n",
    "master_df = pd.read_csv('/Users/alexandergursky/Local_Repository/Datasets/Dataset_Package/Spotify_Users/artist-user-countlisten.csv')\n",
    "\n",
    "print(master_df.head(10))\n",
    "print(master_df.columns)"
   ]
  },
  {
   "cell_type": "code",
   "execution_count": 18,
   "metadata": {},
   "outputs": [],
   "source": [
    "df = master_df.drop('Unnamed: 0', axis=1)"
   ]
  },
  {
   "cell_type": "code",
   "execution_count": 19,
   "metadata": {},
   "outputs": [],
   "source": [
    "#piv_df = df.pivot_table(index='artistname', columns='user', values='artist-value', aggfunc='sum', observed=False)"
   ]
  },
  {
   "cell_type": "code",
   "execution_count": 20,
   "metadata": {},
   "outputs": [
    {
     "name": "stdout",
     "output_type": "stream",
     "text": [
      "289821\n"
     ]
    }
   ],
   "source": [
    "print(df['artistname'].nunique())"
   ]
  },
  {
   "cell_type": "code",
   "execution_count": 21,
   "metadata": {},
   "outputs": [
    {
     "name": "stdout",
     "output_type": "stream",
     "text": [
      "15918\n"
     ]
    }
   ],
   "source": [
    "print(df['user'].nunique())"
   ]
  },
  {
   "cell_type": "code",
   "execution_count": 22,
   "metadata": {},
   "outputs": [
    {
     "name": "stdout",
     "output_type": "stream",
     "text": [
      "                            artistname  user  artist-value\n",
      "0                       Elvis Costello     0           3.0\n",
      "1     Elvis Costello & The Attractions     0           3.0\n",
      "2                         Tiffany Page     0           4.0\n",
      "3                               Lissie     0           8.0\n",
      "4                       Paul McCartney     0           4.0\n",
      "5                             Joe Echo     0          11.0\n",
      "6                         The Breakers     0           3.0\n",
      "7                          The Coronas     0           2.0\n",
      "8                        Crowded House     0           6.0\n",
      "9                         Joshua Radin     0           5.0\n",
      "10                   Cocktail Slippers     0           7.0\n",
      "11               Crosby, Stills & Nash     0           3.0\n",
      "12                     The Len Price 3     0           7.0\n",
      "13       Paul McCartney & Eric Clapton     0           1.0\n",
      "14                  Noah And The Whale     0           2.0\n",
      "15  Noel Gallagher's High Flying Birds     0           2.0\n",
      "16                           Pearl Jam     0           5.0\n",
      "17     Tom Petty And The Heartbreakers     0           2.0\n",
      "18                   Bruce Springsteen     0           7.0\n",
      "19                             Madness     0           4.0\n",
      "20                             Spector     0           1.0\n",
      "21                          Miles Kane     0           3.0\n",
      "22                           Tom Petty     0           1.0\n",
      "23                         Biffy Clyro     0           4.0\n",
      "24                               Elbow     0           3.0\n"
     ]
    }
   ],
   "source": [
    "print(df.head(25))"
   ]
  },
  {
   "cell_type": "code",
   "execution_count": 23,
   "metadata": {},
   "outputs": [
    {
     "name": "stdout",
     "output_type": "stream",
     "text": [
      "               user  artist-value\n",
      "count  3.287465e+06  3.285631e+06\n",
      "mean   8.011826e+03  3.913438e+00\n",
      "std    4.563016e+03  1.281057e+01\n",
      "min    0.000000e+00  1.000000e+00\n",
      "25%    4.068000e+03  1.000000e+00\n",
      "50%    8.038000e+03  1.000000e+00\n",
      "75%    1.198900e+04  2.000000e+00\n",
      "max    1.591700e+04  3.346000e+03\n"
     ]
    }
   ],
   "source": [
    "print(df.describe())"
   ]
  },
  {
   "cell_type": "code",
   "execution_count": 24,
   "metadata": {},
   "outputs": [
    {
     "name": "stdout",
     "output_type": "stream",
     "text": [
      "<class 'pandas.core.frame.DataFrame'>\n",
      "RangeIndex: 3287465 entries, 0 to 3287464\n",
      "Data columns (total 3 columns):\n",
      " #   Column        Dtype  \n",
      "---  ------        -----  \n",
      " 0   artistname    object \n",
      " 1   user          int64  \n",
      " 2   artist-value  float64\n",
      "dtypes: float64(1), int64(1), object(1)\n",
      "memory usage: 75.2+ MB\n",
      "None\n"
     ]
    }
   ],
   "source": [
    "print(df.info())"
   ]
  },
  {
   "cell_type": "code",
   "execution_count": 25,
   "metadata": {},
   "outputs": [
    {
     "name": "stdout",
     "output_type": "stream",
     "text": [
      "<class 'pandas.core.frame.DataFrame'>\n",
      "RangeIndex: 3287465 entries, 0 to 3287464\n",
      "Data columns (total 3 columns):\n",
      " #   Column        Dtype   \n",
      "---  ------        -----   \n",
      " 0   artistname    category\n",
      " 1   user          int16   \n",
      " 2   artist-value  float64 \n",
      "dtypes: category(1), float64(1), int16(1)\n",
      "memory usage: 54.2 MB\n",
      "None\n"
     ]
    }
   ],
   "source": [
    "#piv_df = df.pivot_table(index='artistname', columns='user', values='artist-value', aggfunc='sum', sparse=True)\n",
    "df['artistname'] = df['artistname'].astype('category')\n",
    "df['user'] = df['user'].astype('int16')\n",
    "\n",
    "print(df.info())"
   ]
  },
  {
   "cell_type": "code",
   "execution_count": 26,
   "metadata": {},
   "outputs": [
    {
     "name": "stdout",
     "output_type": "stream",
     "text": [
      "1834\n"
     ]
    }
   ],
   "source": [
    "print(df['artist-value'].isna().sum())"
   ]
  },
  {
   "cell_type": "code",
   "execution_count": 27,
   "metadata": {},
   "outputs": [
    {
     "name": "stdout",
     "output_type": "stream",
     "text": [
      "1834\n"
     ]
    }
   ],
   "source": [
    "print(df['artistname'].isna().sum())"
   ]
  },
  {
   "cell_type": "code",
   "execution_count": 28,
   "metadata": {},
   "outputs": [],
   "source": [
    "df = df.dropna()"
   ]
  },
  {
   "cell_type": "code",
   "execution_count": 29,
   "metadata": {},
   "outputs": [
    {
     "name": "stdout",
     "output_type": "stream",
     "text": [
      "<class 'pandas.core.frame.DataFrame'>\n",
      "Int64Index: 3285631 entries, 0 to 3287464\n",
      "Data columns (total 3 columns):\n",
      " #   Column        Dtype   \n",
      "---  ------        -----   \n",
      " 0   artistname    category\n",
      " 1   user          int16   \n",
      " 2   artist-value  int32   \n",
      "dtypes: category(1), int16(1), int32(1)\n",
      "memory usage: 66.7 MB\n",
      "None\n"
     ]
    }
   ],
   "source": [
    "df['artist-value'] = df['artist-value'].astype('int32')\n",
    "\n",
    "print(df.info())"
   ]
  },
  {
   "cell_type": "code",
   "execution_count": 30,
   "metadata": {},
   "outputs": [
    {
     "name": "stdout",
     "output_type": "stream",
     "text": [
      "3346\n",
      "Axes(0.125,0.11;0.775x0.77)\n"
     ]
    },
    {
     "data": {
      "image/png": "[encoded data removed]",
      "text/plain": [
       "<Figure size 640x480 with 1 Axes>"
      ]
     },
     "metadata": {},
     "output_type": "display_data"
    }
   ],
   "source": [
    "print(df['artist-value'].max())\n",
    "print(df['artist-value'].plot(kind='box'))"
   ]
  },
  {
   "cell_type": "code",
   "execution_count": 31,
   "metadata": {},
   "outputs": [],
   "source": [
    "#piv_df = df.pivot_table(index='artistname', columns='user', values='artist-value', aggfunc='sum', fill_value=0)"
   ]
  },
  {
   "cell_type": "code",
   "execution_count": 32,
   "metadata": {},
   "outputs": [
    {
     "ename": "ModuleNotFoundError",
     "evalue": "No module named 'Python_Repo'",
     "output_type": "error",
     "traceback": [
      "\u001b[0;31m---------------------------------------------------------------------------\u001b[0m",
      "\u001b[0;31mModuleNotFoundError\u001b[0m                       Traceback (most recent call last)",
      "\u001b[1;32m/Users/alexandergursky/Local_Repository/Python_Repo/ML_AI/Spotify_NMF_Project/trying-to-sparse.ipynb Cell 16\u001b[0m in \u001b[0;36m3\n\u001b[1;32m      <a href='vscode-notebook-cell:/Users/alexandergursky/Local_Repository/Python_Repo/ML_AI/Spotify_NMF_Project/trying-to-sparse.ipynb#X22sZmlsZQ%3D%3D?line=0'>1</a>\u001b[0m \u001b[39mimport\u001b[39;00m \u001b[39mnumpy\u001b[39;00m \u001b[39mas\u001b[39;00m \u001b[39mnp\u001b[39;00m\n\u001b[1;32m      <a href='vscode-notebook-cell:/Users/alexandergursky/Local_Repository/Python_Repo/ML_AI/Spotify_NMF_Project/trying-to-sparse.ipynb#X22sZmlsZQ%3D%3D?line=1'>2</a>\u001b[0m \u001b[39mimport\u001b[39;00m \u001b[39mmultiprocessing\u001b[39;00m \u001b[39mas\u001b[39;00m \u001b[39mmp\u001b[39;00m\n\u001b[0;32m----> <a href='vscode-notebook-cell:/Users/alexandergursky/Local_Repository/Python_Repo/ML_AI/Spotify_NMF_Project/trying-to-sparse.ipynb#X22sZmlsZQ%3D%3D?line=2'>3</a>\u001b[0m \u001b[39mfrom\u001b[39;00m \u001b[39mPython_Repo\u001b[39;00m\u001b[39m.\u001b[39;00m\u001b[39mML_AI\u001b[39;00m\u001b[39m.\u001b[39;00m\u001b[39mSpotify_NMF_Project\u001b[39;00m\u001b[39m.\u001b[39;00m\u001b[39mmy_function\u001b[39;00m \u001b[39mimport\u001b[39;00m compute_pivot_table\n\u001b[1;32m      <a href='vscode-notebook-cell:/Users/alexandergursky/Local_Repository/Python_Repo/ML_AI/Spotify_NMF_Project/trying-to-sparse.ipynb#X22sZmlsZQ%3D%3D?line=4'>5</a>\u001b[0m chunks \u001b[39m=\u001b[39m np\u001b[39m.\u001b[39marray_split(df, \u001b[39m4\u001b[39m)\n\u001b[1;32m      <a href='vscode-notebook-cell:/Users/alexandergursky/Local_Repository/Python_Repo/ML_AI/Spotify_NMF_Project/trying-to-sparse.ipynb#X22sZmlsZQ%3D%3D?line=6'>7</a>\u001b[0m \u001b[39mdef\u001b[39;00m \u001b[39mcompute_pivot_table\u001b[39m(chunk):\n",
      "\u001b[0;31mModuleNotFoundError\u001b[0m: No module named 'Python_Repo'"
     ]
    }
   ],
   "source": [
    "import numpy as np\n",
    "import multiprocessing as mp\n",
    "from Python_Repo.ML_AI.Spotify_NMF_Project.my_function import compute_pivot_table\n",
    "\n",
    "chunks = np.array_split(df, 4)\n",
    "\n",
    "def compute_pivot_table(chunk):\n",
    "    pivot = pd.pivot_table(chunk, index='artistname', columns='user', values='artist-value', aggfunc='sum', fill_value=0)\n",
    "    return pivot\n",
    "\n",
    "\n",
    "pool = mp.Pool(processes=4)\n",
    "\n",
    "results = pool.map(compute_pivot_table, chunks)\n",
    "\n",
    "final_pivot = pd.concat(results)\n",
    "\n",
    "pool.close()\n",
    "pool.join()"
   ]
  }
 ],
 "metadata": {
  "kernelspec": {
   "display_name": "Python 3",
   "language": "python",
   "name": "python3"
  },
  "language_info": {
   "codemirror_mode": {
    "name": "ipython",
    "version": 3
   },
   "file_extension": ".py",
   "mimetype": "text/x-python",
   "name": "python",
   "nbconvert_exporter": "python",
   "pygments_lexer": "ipython3",
   "version": "3.11.0"
  },
  "orig_nbformat": 4
 },
 "nbformat": 4,
 "nbformat_minor": 2
}
